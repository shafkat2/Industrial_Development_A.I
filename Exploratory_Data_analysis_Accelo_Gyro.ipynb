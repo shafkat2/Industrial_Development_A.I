{
  "nbformat": 4,
  "nbformat_minor": 0,
  "metadata": {
    "colab": {
      "name": "Exploratory_Data_analysis_Accelo_Gyro.ipynb",
      "version": "0.3.2",
      "provenance": [],
      "collapsed_sections": [],
      "include_colab_link": true
    },
    "kernelspec": {
      "name": "python3",
      "display_name": "Python 3"
    },
    "accelerator": "GPU"
  },
  "cells": [
    {
      "cell_type": "markdown",
      "metadata": {
        "id": "view-in-github",
        "colab_type": "text"
      },
      "source": [
        "<a href=\"https://colab.research.google.com/github/shafkat2/Industrial_Development_A.I/blob/master/Exploratory_Data_analysis_Accelo_Gyro.ipynb\" target=\"_parent\"><img src=\"https://colab.research.google.com/assets/colab-badge.svg\" alt=\"Open In Colab\"/></a>"
      ]
    },
    {
      "cell_type": "markdown",
      "metadata": {
        "id": "aHP6E66o-Uh2",
        "colab_type": "text"
      },
      "source": [
        "# ***Loading Drives and Importing Libraries***"
      ]
    },
    {
      "cell_type": "code",
      "metadata": {
        "id": "2gdlx-ZL8yD8",
        "colab_type": "code",
        "colab": {
          "base_uri": "https://localhost:8080/",
          "height": 121
        },
        "outputId": "405a340f-27c1-4cc1-f1d7-8d93d9d6b53f"
      },
      "source": [
        "from google.colab import drive\n",
        "drive.mount('/content/drive/')"
      ],
      "execution_count": 1,
      "outputs": [
        {
          "output_type": "stream",
          "text": [
            "Go to this URL in a browser: https://accounts.google.com/o/oauth2/auth?client_id=947318989803-6bn6qk8qdgf4n4g3pfee6491hc0brc4i.apps.googleusercontent.com&redirect_uri=urn%3Aietf%3Awg%3Aoauth%3A2.0%3Aoob&scope=email%20https%3A%2F%2Fwww.googleapis.com%2Fauth%2Fdocs.test%20https%3A%2F%2Fwww.googleapis.com%2Fauth%2Fdrive%20https%3A%2F%2Fwww.googleapis.com%2Fauth%2Fdrive.photos.readonly%20https%3A%2F%2Fwww.googleapis.com%2Fauth%2Fpeopleapi.readonly&response_type=code\n",
            "\n",
            "Enter your authorization code:\n",
            "··········\n",
            "Mounted at /content/drive/\n"
          ],
          "name": "stdout"
        }
      ]
    },
    {
      "cell_type": "code",
      "metadata": {
        "id": "MizwZiND86Ot",
        "colab_type": "code",
        "colab": {
          "base_uri": "https://localhost:8080/",
          "height": 34
        },
        "outputId": "952c0883-9fe4-40f8-8611-245271826202"
      },
      "source": [
        "import os\n",
        "import numpy as np\n",
        "import matplotlib.pyplot as plt\n",
        "from sklearn.utils import shuffle\n",
        "import pandas as pd\n",
        "import seaborn as sns\n",
        "from sklearn.model_selection import train_test_split\n",
        "from sklearn import preprocessing\n",
        "!pip install xlrd\n",
        "from scipy import signal\n",
        "import random\n",
        "from scipy.interpolate import interp1d\n",
        "from sklearn.metrics import mean_squared_error\n",
        "import math\n",
        "import time as time\n",
        "import seaborn as sns\n",
        "from scipy.signal import medfilt\n",
        "from scipy.signal import savgol_filter\n",
        "from keras.models import model_from_json\n",
        "import pywt\n",
        "from statsmodels.robust import mad\n",
        "from scipy.signal import sosfiltfilt, butter\n",
        "#from pandas.tools.plotting import table\n",
        "import matplotlib.dates as md\n",
        "import scipy.stats as st"
      ],
      "execution_count": 45,
      "outputs": [
        {
          "output_type": "stream",
          "text": [
            "Requirement already satisfied: xlrd in /usr/local/lib/python3.6/dist-packages (1.1.0)\n"
          ],
          "name": "stdout"
        }
      ]
    },
    {
      "cell_type": "markdown",
      "metadata": {
        "id": "wPwVuaMjKysv",
        "colab_type": "text"
      },
      "source": [
        "# ***Functions ***"
      ]
    },
    {
      "cell_type": "code",
      "metadata": {
        "id": "P02PKybMKx91",
        "colab_type": "code",
        "colab": {}
      },
      "source": [
        "# removing nan columns and arbitary columns from data which contained NaN\n",
        "def initial_prep(data):\n",
        "  \n",
        "  data = data.drop([0], axis=0)\n",
        "  data = data.reset_index()\n",
        "  data = data.drop(columns=['Unnamed: 8',\t'Generation.1','Timestamp.1','Speed'])\n",
        "  \n",
        "  return data\n",
        "  \n",
        "#using brute force to check which distribution the data falls under  \n",
        "def get_best_distribution(data):\n",
        "    value_list = []\n",
        "    dist_names = [\"norm\", \"exponweib\", \"weibull_max\", \"pareto\", \"genextreme\",\"lognorm\",\"tukeylambda\",\"vonmises_line\",\"dgamma\",\"exponnorm\",\"chi\",\"chi2\",\"burr12\",\"burr\"]\n",
        "    dist_results = []\n",
        "    params = {}\n",
        "    for dist_name in dist_names:\n",
        "        dist = getattr(st, dist_name)\n",
        "        param = dist.fit(data)\n",
        "\n",
        "        params[dist_name] = param\n",
        "        # Applying the Kolmogorov-Smirnov test\n",
        "        D, p = st.kstest(data, dist_name, args=param)\n",
        "        print(\"p value for \"+dist_name+\" = \"+str(p))\n",
        "        dist_results.append((dist_name, p))\n",
        "\n",
        "    # select the best fitted distribution\n",
        "    best_dist, best_p = (max(dist_results, key=lambda item: item[1]))\n",
        "    # store the name of the best fit and its p value\n",
        "\n",
        "    print(\"Best fitting distribution: \"+str(best_dist))\n",
        "    value_list.append(best_dist)\n",
        "    print(\"Best p value: \"+ str(best_p))\n",
        "    value_list.append(best_p)\n",
        "    print(\"Parameters for the best fit: \"+ str(params[best_dist]))\n",
        "    value_list.append(params[best_dist])\n",
        "    \n",
        "    \n",
        "    return value_list"
      ],
      "execution_count": 0,
      "outputs": []
    },
    {
      "cell_type": "markdown",
      "metadata": {
        "id": "jz-eCes4J_jB",
        "colab_type": "text"
      },
      "source": [
        "# ***Preprocessing***"
      ]
    },
    {
      "cell_type": "code",
      "metadata": {
        "id": "Km5zgQm0-SZm",
        "colab_type": "code",
        "colab": {}
      },
      "source": [
        "GyroLinear_acceleration = pd.read_csv('/content/drive/My Drive/Research_NSU/Raw_Data/GyroLinearAcceleration-2019-1-6-6-44-54_ok.csv')"
      ],
      "execution_count": 0,
      "outputs": []
    },
    {
      "cell_type": "code",
      "metadata": {
        "id": "UDICcfxtAKAc",
        "colab_type": "code",
        "colab": {}
      },
      "source": [
        "data = initial_prep(GyroLinear_acceleration)"
      ],
      "execution_count": 0,
      "outputs": []
    },
    {
      "cell_type": "code",
      "metadata": {
        "id": "B8KwvYV6PTSS",
        "colab_type": "code",
        "colab": {
          "base_uri": "https://localhost:8080/",
          "height": 136
        },
        "outputId": "fb573a19-12f0-40b1-d67e-6587d14cd98d"
      },
      "source": [
        "data.head(3)"
      ],
      "execution_count": 38,
      "outputs": [
        {
          "output_type": "execute_result",
          "data": {
            "text/html": [
              "<div>\n",
              "<style scoped>\n",
              "    .dataframe tbody tr th:only-of-type {\n",
              "        vertical-align: middle;\n",
              "    }\n",
              "\n",
              "    .dataframe tbody tr th {\n",
              "        vertical-align: top;\n",
              "    }\n",
              "\n",
              "    .dataframe thead th {\n",
              "        text-align: right;\n",
              "    }\n",
              "</style>\n",
              "<table border=\"1\" class=\"dataframe\">\n",
              "  <thead>\n",
              "    <tr style=\"text-align: right;\">\n",
              "      <th></th>\n",
              "      <th>index</th>\n",
              "      <th>Generation</th>\n",
              "      <th>Timestamp</th>\n",
              "      <th>AX</th>\n",
              "      <th>AY</th>\n",
              "      <th>AZ</th>\n",
              "      <th>lAX</th>\n",
              "      <th>lAY</th>\n",
              "      <th>lAZ</th>\n",
              "    </tr>\n",
              "  </thead>\n",
              "  <tbody>\n",
              "    <tr>\n",
              "      <th>0</th>\n",
              "      <td>1</td>\n",
              "      <td>6603.0</td>\n",
              "      <td>6:44:18</td>\n",
              "      <td>0.098165</td>\n",
              "      <td>4.678413</td>\n",
              "      <td>8.269825</td>\n",
              "      <td>-4.835621</td>\n",
              "      <td>-4.134902</td>\n",
              "      <td>10.325537</td>\n",
              "    </tr>\n",
              "    <tr>\n",
              "      <th>1</th>\n",
              "      <td>2</td>\n",
              "      <td>6604.0</td>\n",
              "      <td>6:44:18</td>\n",
              "      <td>-0.196331</td>\n",
              "      <td>4.546728</td>\n",
              "      <td>8.913885</td>\n",
              "      <td>-4.835621</td>\n",
              "      <td>-4.134902</td>\n",
              "      <td>10.325537</td>\n",
              "    </tr>\n",
              "    <tr>\n",
              "      <th>2</th>\n",
              "      <td>3</td>\n",
              "      <td>6605.0</td>\n",
              "      <td>6:44:18</td>\n",
              "      <td>-0.201119</td>\n",
              "      <td>4.635316</td>\n",
              "      <td>9.016839</td>\n",
              "      <td>-4.835621</td>\n",
              "      <td>-4.134902</td>\n",
              "      <td>10.325537</td>\n",
              "    </tr>\n",
              "  </tbody>\n",
              "</table>\n",
              "</div>"
            ],
            "text/plain": [
              "   index  Generation Timestamp  ...       lAX       lAY        lAZ\n",
              "0      1      6603.0   6:44:18  ... -4.835621 -4.134902  10.325537\n",
              "1      2      6604.0   6:44:18  ... -4.835621 -4.134902  10.325537\n",
              "2      3      6605.0   6:44:18  ... -4.835621 -4.134902  10.325537\n",
              "\n",
              "[3 rows x 9 columns]"
            ]
          },
          "metadata": {
            "tags": []
          },
          "execution_count": 38
        }
      ]
    },
    {
      "cell_type": "code",
      "metadata": {
        "id": "9F_5rGH4NciF",
        "colab_type": "code",
        "colab": {
          "base_uri": "https://localhost:8080/",
          "height": 286
        },
        "outputId": "ea0ed703-0930-492f-ae72-5d938d5eceb3"
      },
      "source": [
        "data[[\"AX\", \"AY\",\"AZ\"]].plot.hist(bins=20,alpha=0.4) "
      ],
      "execution_count": 86,
      "outputs": [
        {
          "output_type": "execute_result",
          "data": {
            "text/plain": [
              "<matplotlib.axes._subplots.AxesSubplot at 0x7f9ccf8dac50>"
            ]
          },
          "metadata": {
            "tags": []
          },
          "execution_count": 86
        },
        {
          "output_type": "display_data",
          "data": {
            "image/png": "[encoded data removed]",
            "text/plain": [
              "<Figure size 432x288 with 1 Axes>"
            ]
          },
          "metadata": {
            "tags": []
          }
        }
      ]
    },
    {
      "cell_type": "code",
      "metadata": {
        "id": "8XEiS_NjQM6q",
        "colab_type": "code",
        "colab": {
          "base_uri": "https://localhost:8080/",
          "height": 470
        },
        "outputId": "ff199427-6418-49a5-82e5-174ba7bc0ed8"
      },
      "source": [
        "result  = get_best_distribution(data[\"AX\"])"
      ],
      "execution_count": 87,
      "outputs": [
        {
          "output_type": "stream",
          "text": [
            "p value for norm = 1.3665352038186246e-83\n",
            "p value for exponweib = 1.5704848136281463e-28\n",
            "p value for weibull_max = 1.9879142168878005e-77\n"
          ],
          "name": "stdout"
        },
        {
          "output_type": "stream",
          "text": [
            "/usr/local/lib/python3.6/dist-packages/scipy/stats/_distn_infrastructure.py:2381: RuntimeWarning: invalid value encountered in double_scalars\n",
            "  Lhat = muhat - Shat*mu\n"
          ],
          "name": "stderr"
        },
        {
          "output_type": "stream",
          "text": [
            "p value for pareto = 0.0\n",
            "p value for genextreme = 1.917653884987496e-77\n",
            "p value for lognorm = 1.7113511772411136e-82\n"
          ],
          "name": "stdout"
        },
        {
          "output_type": "stream",
          "text": [
            "/usr/local/lib/python3.6/dist-packages/scipy/stats/_distn_infrastructure.py:1682: RuntimeWarning: divide by zero encountered in log\n",
            "  return log(self._pdf(x, *args))\n",
            "/usr/local/lib/python3.6/dist-packages/scipy/stats/_continuous_distns.py:6470: RuntimeWarning: divide by zero encountered in power\n",
            "  Px = Fx**(lam-1.0) + (np.asarray(1-Fx))**(lam-1.0)\n"
          ],
          "name": "stderr"
        },
        {
          "output_type": "stream",
          "text": [
            "p value for tukeylambda = 1.3285388433995205e-25\n",
            "p value for vonmises_line = 1.4826261743417455e-55\n",
            "p value for dgamma = 6.9124589765270895e-34\n",
            "p value for exponnorm = 1.4094879973943666e-83\n"
          ],
          "name": "stdout"
        },
        {
          "output_type": "stream",
          "text": [
            "/usr/local/lib/python3.6/dist-packages/scipy/stats/_continuous_distns.py:1415: RuntimeWarning: divide by zero encountered in log\n",
            "  return exparg + np.log(0.5 * invK * sc.erfc(-(x - invK) / np.sqrt(2)))\n"
          ],
          "name": "stderr"
        },
        {
          "output_type": "stream",
          "text": [
            "p value for chi = 1.3010503851921696e-89\n",
            "p value for chi2 = 7.6445977765052135e-106\n"
          ],
          "name": "stdout"
        },
        {
          "output_type": "stream",
          "text": [
            "/usr/local/lib/python3.6/dist-packages/scipy/stats/_distn_infrastructure.py:1059: RuntimeWarning: invalid value encountered in subtract\n",
            "  mu2 = mu2p - mu * mu\n"
          ],
          "name": "stderr"
        },
        {
          "output_type": "stream",
          "text": [
            "p value for burr12 = 2.2157456291029044e-25\n",
            "p value for burr = 8.51427793410157e-64\n",
            "Best fitting distribution: burr12\n",
            "Best p value: 2.2157456291029044e-25\n",
            "Parameters for the best fit: (56.302083200178615, 236.4257435881803, -51.71534888784863, 57.16047919321621)\n"
          ],
          "name": "stdout"
        }
      ]
    }
  ]
}